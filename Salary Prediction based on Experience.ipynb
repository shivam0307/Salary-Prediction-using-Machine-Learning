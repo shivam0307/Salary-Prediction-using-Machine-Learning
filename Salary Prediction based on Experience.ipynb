{
 "cells": [
  {
   "cell_type": "markdown",
   "id": "b2b8e974",
   "metadata": {},
   "source": [
    "# Salary Prediction using Machine Learning"
   ]
  },
  {
   "cell_type": "markdown",
   "id": "e9e7d96e",
   "metadata": {},
   "source": [
    "The Model involves prediction of Salary based on Years of Experience.\n",
    "The Model is created by using:\n",
    "1. Stochastic Gradient Descent method \n",
    "2. Linear Regression method"
   ]
  },
  {
   "cell_type": "markdown",
   "id": "5232c752",
   "metadata": {},
   "source": [
    "# Import Dependencies"
   ]
  },
  {
   "cell_type": "code",
   "execution_count": 2,
   "id": "9f231c5a",
   "metadata": {},
   "outputs": [],
   "source": [
    "import numpy as np\n",
    "import pandas as pd\n",
    "import matplotlib.pyplot as plt\n",
    "import math"
   ]
  },
  {
   "cell_type": "code",
   "execution_count": 46,
   "id": "18e12534",
   "metadata": {},
   "outputs": [],
   "source": [
    "import seaborn as sns\n",
    "from sklearn.metrics import r2_score\n",
    "from sklearn.preprocessing import StandardScaler"
   ]
  },
  {
   "cell_type": "markdown",
   "id": "2aa23101",
   "metadata": {},
   "source": [
    "# Data Collection"
   ]
  },
  {
   "cell_type": "code",
   "execution_count": 3,
   "id": "362a04a5",
   "metadata": {},
   "outputs": [],
   "source": [
    "salary = pd.read_csv('Salary_Data.csv')"
   ]
  },
  {
   "cell_type": "code",
   "execution_count": 4,
   "id": "6fc788db",
   "metadata": {},
   "outputs": [
    {
     "data": {
      "text/html": [
       "<div>\n",
       "<style scoped>\n",
       "    .dataframe tbody tr th:only-of-type {\n",
       "        vertical-align: middle;\n",
       "    }\n",
       "\n",
       "    .dataframe tbody tr th {\n",
       "        vertical-align: top;\n",
       "    }\n",
       "\n",
       "    .dataframe thead th {\n",
       "        text-align: right;\n",
       "    }\n",
       "</style>\n",
       "<table border=\"1\" class=\"dataframe\">\n",
       "  <thead>\n",
       "    <tr style=\"text-align: right;\">\n",
       "      <th></th>\n",
       "      <th>YearsExperience</th>\n",
       "      <th>Salary</th>\n",
       "    </tr>\n",
       "  </thead>\n",
       "  <tbody>\n",
       "    <tr>\n",
       "      <th>0</th>\n",
       "      <td>1.1</td>\n",
       "      <td>39343.0</td>\n",
       "    </tr>\n",
       "    <tr>\n",
       "      <th>1</th>\n",
       "      <td>1.3</td>\n",
       "      <td>46205.0</td>\n",
       "    </tr>\n",
       "    <tr>\n",
       "      <th>2</th>\n",
       "      <td>1.5</td>\n",
       "      <td>37731.0</td>\n",
       "    </tr>\n",
       "    <tr>\n",
       "      <th>3</th>\n",
       "      <td>2.0</td>\n",
       "      <td>43525.0</td>\n",
       "    </tr>\n",
       "    <tr>\n",
       "      <th>4</th>\n",
       "      <td>2.2</td>\n",
       "      <td>39891.0</td>\n",
       "    </tr>\n",
       "  </tbody>\n",
       "</table>\n",
       "</div>"
      ],
      "text/plain": [
       "   YearsExperience   Salary\n",
       "0              1.1  39343.0\n",
       "1              1.3  46205.0\n",
       "2              1.5  37731.0\n",
       "3              2.0  43525.0\n",
       "4              2.2  39891.0"
      ]
     },
     "execution_count": 4,
     "metadata": {},
     "output_type": "execute_result"
    }
   ],
   "source": [
    "salary.head()"
   ]
  },
  {
   "cell_type": "code",
   "execution_count": 5,
   "id": "0b93a80e",
   "metadata": {},
   "outputs": [],
   "source": [
    "x = salary['YearsExperience'].values.reshape(-1,1)\n",
    "y = salary['Salary'].values.reshape(-1,1)"
   ]
  },
  {
   "cell_type": "markdown",
   "id": "976f1061",
   "metadata": {},
   "source": [
    "# Analyzing The Data"
   ]
  },
  {
   "cell_type": "code",
   "execution_count": 8,
   "id": "b64206da",
   "metadata": {},
   "outputs": [
    {
     "data": {
      "image/png": "[encoded data removed]",
      "text/plain": [
       "<Figure size 432x288 with 1 Axes>"
      ]
     },
     "metadata": {
      "needs_background": "light"
     },
     "output_type": "display_data"
    }
   ],
   "source": [
    "plt.plot(x,y,color='r')\n",
    "plt.xlabel('YearsExperience')\n",
    "plt.ylabel('Salary')\n",
    "plt.show()"
   ]
  },
  {
   "cell_type": "code",
   "execution_count": 7,
   "id": "cd668832",
   "metadata": {},
   "outputs": [
    {
     "data": {
      "image/png": "[encoded data removed]",
      "text/plain": [
       "<Figure size 432x288 with 1 Axes>"
      ]
     },
     "metadata": {
      "needs_background": "light"
     },
     "output_type": "display_data"
    }
   ],
   "source": [
    "plt.scatter(x,y)\n",
    "plt.xlabel('YearsExperience')\n",
    "plt.ylabel('Salary')\n",
    "plt.show()"
   ]
  },
  {
   "cell_type": "code",
   "execution_count": 11,
   "id": "63f116af",
   "metadata": {},
   "outputs": [
    {
     "data": {
      "image/png": "[encoded data removed]",
      "text/plain": [
       "<Figure size 1440x1080 with 9 Axes>"
      ]
     },
     "metadata": {
      "needs_background": "light"
     },
     "output_type": "display_data"
    }
   ],
   "source": [
    "salary.plot(kind= 'box',subplots=True,layout=(3,3),sharex=False,sharey=False,figsize=(20,15))\n",
    "plt.show()"
   ]
  },
  {
   "cell_type": "code",
   "execution_count": 13,
   "id": "0c3be95f",
   "metadata": {},
   "outputs": [
    {
     "data": {
      "text/plain": [
       "YearsExperience        5.313333\n",
       "Salary             76003.000000\n",
       "dtype: float64"
      ]
     },
     "execution_count": 13,
     "metadata": {},
     "output_type": "execute_result"
    }
   ],
   "source": [
    "salary.mean()"
   ]
  },
  {
   "cell_type": "code",
   "execution_count": 15,
   "id": "6714402f",
   "metadata": {},
   "outputs": [
    {
     "data": {
      "text/plain": [
       "<AxesSubplot:>"
      ]
     },
     "execution_count": 15,
     "metadata": {},
     "output_type": "execute_result"
    },
    {
     "data": {
      "image/png": "[encoded data removed]",
      "text/plain": [
       "<Figure size 432x288 with 2 Axes>"
      ]
     },
     "metadata": {
      "needs_background": "light"
     },
     "output_type": "display_data"
    }
   ],
   "source": [
    "sns.heatmap(salary.corr(),annot=True)"
   ]
  },
  {
   "cell_type": "markdown",
   "id": "91169861",
   "metadata": {},
   "source": [
    "# Data Modelling using Gradient Descent Method"
   ]
  },
  {
   "cell_type": "markdown",
   "id": "7146645d",
   "metadata": {},
   "source": [
    "In this process, we will do following steps:\n",
    "1. Define a function for gradient descent, with two arguments \n",
    "2. The function will use the iterative method with 200 iterations and learning rate = 0.01\n",
    "3. Applying mathematical formulae of gradient descent method in the loop\n",
    "4. minimzing the cost such that predictive value will be nearest to testing value\n",
    "5. Find the Accuarcy using R2_score\n",
    "6. Plot between predicted and target values"
   ]
  },
  {
   "cell_type": "code",
   "execution_count": 23,
   "id": "68722d4e",
   "metadata": {},
   "outputs": [],
   "source": [
    "def gradient_decent(x,y):\n",
    "    m_curr = b_curr = 0\n",
    "    itr = 200\n",
    "    n = len(x)\n",
    "    lr = 0.01\n",
    "    #plt.plot(x,y)\n",
    "    cost=[]\n",
    "    \n",
    "    for i in range(itr):\n",
    "        y_pred = m_curr*x + b_curr\n",
    "        cost_temp = (1/n)*sum([val**2 for val in (y-y_pred)])\n",
    "        cost.append(cost_temp)\n",
    "        md = -(2/n)*sum(x*(y-y_pred))\n",
    "        bd = -(2/n)*sum(y-y_pred)\n",
    "        m_curr = m_curr - lr*md\n",
    "        b_curr = b_curr - lr*bd\n",
    "        print(\"m: {} , b: {} , cost: {} , iteration: {}\".format(m_curr,b_curr,cost_temp,i))\n",
    "        #plt.plot(x,y_pred)\n",
    "        \n",
    "    plt.plot(x,y)\n",
    "    plt.plot(x,y_pred)\n",
    "    r2 = r2_score(y,y_pred)\n",
    "    print(\"Accuracy: \",r2)\n",
    "    print(\"R: \", math.sqrt(r2))\n",
    "    return r2\n"
   ]
  },
  {
   "cell_type": "markdown",
   "id": "807c6807",
   "metadata": {},
   "source": [
    "Now, we will use the defined function on our dataset:"
   ]
  },
  {
   "cell_type": "code",
   "execution_count": 24,
   "id": "ea04ae52",
   "metadata": {},
   "outputs": [
    {
     "name": "stdout",
     "output_type": "stream",
     "text": [
      "m: [9547.974] , b: [1520.06] , cost: [6.50295527e+09] , iteration: 0\n",
      "m: [12056.69235267] , b: [1995.0874296] , cost: [5.95473385e+08] , iteration: 1\n",
      "m: [12707.81767044] , b: [2194.02117366] , cost: [1.83107993e+08] , iteration: 2\n",
      "m: [12868.77569178] , b: [2319.78332575] , cost: [1.53439943e+08] , iteration: 3\n",
      "m: [12900.42596039] , b: [2425.92576238] , cost: [1.5043161e+08] , iteration: 4\n",
      "m: [12897.99808257] , b: [2526.58198175] , cost: [1.49287859e+08] , iteration: 5\n",
      "m: [12886.62268517] , b: [2625.4830792] , cost: [1.48281849e+08] , iteration: 6\n",
      "m: [12872.93147573] , b: [2723.61498028] , cost: [1.47293253e+08] , iteration: 7\n",
      "m: [12858.67435081] , b: [2821.23916252] , cost: [1.46313625e+08] , iteration: 8\n",
      "m: [12844.31291177] , b: [2918.42591825] , cost: [1.45342311e+08] , iteration: 9\n",
      "m: [12829.96878341] , b: [3015.19508113] , cost: [1.44379201e+08] , iteration: 10\n",
      "m: [12815.67387247] , b: [3111.55316346] , cost: [1.43424223e+08] , iteration: 11\n",
      "m: [12801.43641017] , b: [3207.50315667] , cost: [1.42477308e+08] , iteration: 12\n",
      "m: [12787.25838059] , b: [3303.04711769] , cost: [1.41538387e+08] , iteration: 13\n",
      "m: [12773.14012007] , b: [3398.18685142] , cost: [1.40607394e+08] , iteration: 14\n",
      "m: [12759.08153083] , b: [3492.92409097] , cost: [1.39684262e+08] , iteration: 15\n",
      "m: [12745.08240139] , b: [3587.26054514] , cost: [1.38768923e+08] , iteration: 16\n",
      "m: [12731.14249099] , b: [3681.19791105] , cost: [1.37861313e+08] , iteration: 17\n",
      "m: [12717.26155197] , b: [3774.73787745] , cost: [1.36961365e+08] , iteration: 18\n",
      "m: [12703.43933559] , b: [3867.88212564] , cost: [1.36069016e+08] , iteration: 19\n",
      "m: [12689.67559363] , b: [3960.63232974] , cost: [1.35184201e+08] , iteration: 20\n",
      "m: [12675.97007878] , b: [4052.99015673] , cost: [1.34306857e+08] , iteration: 21\n",
      "m: [12662.32254471] , b: [4144.95726655] , cost: [1.3343692e+08] , iteration: 22\n",
      "m: [12648.73274615] , b: [4236.53531214] , cost: [1.32574328e+08] , iteration: 23\n",
      "m: [12635.20043884] , b: [4327.7259394] , cost: [1.31719019e+08] , iteration: 24\n",
      "m: [12621.72537957] , b: [4418.53078732] , cost: [1.30870931e+08] , iteration: 25\n",
      "m: [12608.30732615] , b: [4508.9514879] , cost: [1.30030004e+08] , iteration: 26\n",
      "m: [12594.94603743] , b: [4598.98966628] , cost: [1.29196177e+08] , iteration: 27\n",
      "m: [12581.64127327] , b: [4688.64694071] , cost: [1.2836939e+08] , iteration: 28\n",
      "m: [12568.39279452] , b: [4777.92492259] , cost: [1.27549583e+08] , iteration: 29\n",
      "m: [12555.20036309] , b: [4866.82521651] , cost: [1.26736698e+08] , iteration: 30\n",
      "m: [12542.06374187] , b: [4955.34942026] , cost: [1.25930676e+08] , iteration: 31\n",
      "m: [12528.98269475] , b: [5043.49912489] , cost: [1.2513146e+08] , iteration: 32\n",
      "m: [12515.95698663] , b: [5131.27591469] , cost: [1.24338991e+08] , iteration: 33\n",
      "m: [12502.98638339] , b: [5218.68136729] , cost: [1.23553214e+08] , iteration: 34\n",
      "m: [12490.07065192] , b: [5305.7170536] , cost: [1.2277407e+08] , iteration: 35\n",
      "m: [12477.20956009] , b: [5392.38453792] , cost: [1.22001505e+08] , iteration: 36\n",
      "m: [12464.40287674] , b: [5478.68537791] , cost: [1.21235463e+08] , iteration: 37\n",
      "m: [12451.6503717] , b: [5564.62112465] , cost: [1.20475888e+08] , iteration: 38\n",
      "m: [12438.95181577] , b: [5650.19332265] , cost: [1.19722727e+08] , iteration: 39\n",
      "m: [12426.30698072] , b: [5735.40350991] , cost: [1.18975925e+08] , iteration: 40\n",
      "m: [12413.71563929] , b: [5820.25321789] , cost: [1.18235427e+08] , iteration: 41\n",
      "m: [12401.17756517] , b: [5904.7439716] , cost: [1.17501182e+08] , iteration: 42\n",
      "m: [12388.69253301] , b: [5988.87728958] , cost: [1.16773137e+08] , iteration: 43\n",
      "m: [12376.26031843] , b: [6072.65468394] , cost: [1.16051238e+08] , iteration: 44\n",
      "m: [12363.88069797] , b: [6156.07766043] , cost: [1.15335434e+08] , iteration: 45\n",
      "m: [12351.55344915] , b: [6239.14771838] , cost: [1.14625673e+08] , iteration: 46\n",
      "m: [12339.27835041] , b: [6321.86635082] , cost: [1.13921906e+08] , iteration: 47\n",
      "m: [12327.05518112] , b: [6404.23504443] , cost: [1.1322408e+08] , iteration: 48\n",
      "m: [12314.8837216] , b: [6486.25527963] , cost: [1.12532146e+08] , iteration: 49\n",
      "m: [12302.76375309] , b: [6567.92853055] , cost: [1.11846054e+08] , iteration: 50\n",
      "m: [12290.69505777] , b: [6649.25626511] , cost: [1.11165754e+08] , iteration: 51\n",
      "m: [12278.67741872] , b: [6730.23994501] , cost: [1.10491199e+08] , iteration: 52\n",
      "m: [12266.71061994] , b: [6810.88102574] , cost: [1.09822339e+08] , iteration: 53\n",
      "m: [12254.79444638] , b: [6891.18095668] , cost: [1.09159126e+08] , iteration: 54\n",
      "m: [12242.92868384] , b: [6971.14118105] , cost: [1.08501512e+08] , iteration: 55\n",
      "m: [12231.11311907] , b: [7050.76313596] , cost: [1.07849451e+08] , iteration: 56\n",
      "m: [12219.34753972] , b: [7130.04825245] , cost: [1.07202895e+08] , iteration: 57\n",
      "m: [12207.63173431] , b: [7208.99795552] , cost: [1.06561798e+08] , iteration: 58\n",
      "m: [12195.96549229] , b: [7287.61366411] , cost: [1.05926114e+08] , iteration: 59\n",
      "m: [12184.34860397] , b: [7365.89679118] , cost: [1.05295797e+08] , iteration: 60\n",
      "m: [12172.78086057] , b: [7443.8487437] , cost: [1.04670802e+08] , iteration: 61\n",
      "m: [12161.26205417] , b: [7521.47092271] , cost: [1.04051084e+08] , iteration: 62\n",
      "m: [12149.79197776] , b: [7598.7647233] , cost: [1.03436598e+08] , iteration: 63\n",
      "m: [12138.37042519] , b: [7675.73153467] , cost: [1.028273e+08] , iteration: 64\n",
      "m: [12126.99719116] , b: [7752.37274012] , cost: [1.02223146e+08] , iteration: 65\n",
      "m: [12115.67207128] , b: [7828.68971714] , cost: [1.01624094e+08] , iteration: 66\n",
      "m: [12104.39486199] , b: [7904.68383736] , cost: [1.01030099e+08] , iteration: 67\n",
      "m: [12093.16536062] , b: [7980.35646661] , cost: [1.00441119e+08] , iteration: 68\n",
      "m: [12081.98336534] , b: [8055.70896495] , cost: [99857112.18624912] , iteration: 69\n",
      "m: [12070.84867516] , b: [8130.7426867] , cost: [99278036.06263995] , iteration: 70\n",
      "m: [12059.76108998] , b: [8205.45898042] , cost: [98703849.10551359] , iteration: 71\n",
      "m: [12048.72041051] , b: [8279.85918898] , cost: [98134510.03541164] , iteration: 72\n",
      "m: [12037.72643832] , b: [8353.94464958] , cost: [97569977.92139967] , iteration: 73\n",
      "m: [12026.77897582] , b: [8427.71669374] , cost: [97010212.17812523] , iteration: 74\n",
      "m: [12015.87782625] , b: [8501.17664737] , cost: [96455172.56289984] , iteration: 75\n",
      "m: [12005.02279368] , b: [8574.32583075] , cost: [95904819.17280586] , iteration: 76\n",
      "m: [11994.21368302] , b: [8647.16555859] , cost: [95359112.44182788] , iteration: 77\n",
      "m: [11983.45029999] , b: [8719.69714004] , cost: [94818013.13800815] , iteration: 78\n",
      "m: [11972.73245115] , b: [8791.92187869] , cost: [94281482.3606262] , iteration: 79\n",
      "m: [11962.05994386] , b: [8863.84107264] , cost: [93749481.53740212] , iteration: 80\n",
      "m: [11951.43258631] , b: [8935.45601449] , cost: [93221972.42172337] , iteration: 81\n",
      "m: [11940.8501875] , b: [9006.76799136] , cost: [92698917.0898957] , iteration: 82\n",
      "m: [11930.31255722] , b: [9077.77828494] , cost: [92180277.93841597] , iteration: 83\n",
      "m: [11919.81950609] , b: [9148.4881715] , cost: [91666017.68126953] , iteration: 84\n",
      "m: [11909.37084551] , b: [9218.89892188] , cost: [91156099.34724891] , iteration: 85\n",
      "m: [11898.9663877] , b: [9289.0118016] , cost: [90650486.27729659] , iteration: 86\n",
      "m: [11888.60594564] , b: [9358.82807077] , cost: [90149142.12186883] , iteration: 87\n",
      "m: [11878.28933314] , b: [9428.34898419] , cost: [89652030.83832304] , iteration: 88\n",
      "m: [11868.01636478] , b: [9497.57579137] , cost: [89159116.68832622] , iteration: 89\n",
      "m: [11857.78685592] , b: [9566.50973652] , cost: [88670364.23528583] , iteration: 90\n",
      "m: [11847.60062271] , b: [9635.15205856] , cost: [88185738.34180197] , iteration: 91\n",
      "m: [11837.45748206] , b: [9703.50399122] , cost: [87705204.16714154] , iteration: 92\n",
      "m: [11827.35725168] , b: [9771.56676297] , cost: [87228727.1647334] , iteration: 93\n",
      "m: [11817.29975004] , b: [9839.3415971] , cost: [86756273.07968466] , iteration: 94\n",
      "m: [11807.28479638] , b: [9906.82971172] , cost: [86287807.946318] , iteration: 95\n",
      "m: [11797.31221069] , b: [9974.03231979] , cost: [85823298.08573006] , iteration: 96\n",
      "m: [11787.38181374] , b: [10040.95062914] , cost: [85362710.10336979] , iteration: 97\n",
      "m: [11777.49342705] , b: [10107.58584248] , cost: [84906010.88663813] , iteration: 98\n",
      "m: [11767.6468729] , b: [10173.93915745] , cost: [84453167.60250698] , iteration: 99\n",
      "m: [11757.84197432] , b: [10240.01176661] , cost: [84004147.69515921] , iteration: 100\n",
      "m: [11748.07855509] , b: [10305.80485747] , cost: [83558918.88364784] , iteration: 101\n",
      "m: [11738.35643972] , b: [10371.31961253] , cost: [83117449.1595755] , iteration: 102\n",
      "m: [11728.67545348] , b: [10436.55720929] , cost: [82679706.78479311] , iteration: 103\n",
      "m: [11719.03542238] , b: [10501.51882024] , cost: [82245660.28911826] , iteration: 104\n",
      "m: [11709.43617316] , b: [10566.20561295] , cost: [81815278.46807288] , iteration: 105\n",
      "m: [11699.87753329] , b: [10630.61875003] , cost: [81388530.38063958] , iteration: 106\n",
      "m: [11690.35933097] , b: [10694.75938916] , cost: [80965385.34703746] , iteration: 107\n",
      "m: [11680.88139514] , b: [10758.62868313] , cost: [80545812.94651657] , iteration: 108\n",
      "m: [11671.44355545] , b: [10822.22777988] , cost: [80129783.01517051] , iteration: 109\n",
      "m: [11662.04564226] , b: [10885.55782246] , cost: [79717265.64376834] , iteration: 110\n",
      "m: [11652.68748669] , b: [10948.61994909] , cost: [79308231.17560402] , iteration: 111\n",
      "m: [11643.36892052] , b: [11011.41529319] , cost: [78902650.20436457] , iteration: 112\n",
      "m: [11634.08977628] , b: [11073.94498337] , cost: [78500493.57201569] , iteration: 113\n",
      "m: [11624.8498872] , b: [11136.21014348] , cost: [78101732.36670586] , iteration: 114\n",
      "m: [11615.64908721] , b: [11198.2118926] , cost: [77706337.92068766] , iteration: 115\n",
      "m: [11606.48721094] , b: [11259.95134508] , cost: [77314281.80825666] , iteration: 116\n",
      "m: [11597.36409372] , b: [11321.42961056] , cost: [76925535.84370813] , iteration: 117\n",
      "m: [11588.2795716] , b: [11382.64779399] , cost: [76540072.07931039] , iteration: 118\n",
      "m: [11579.23348128] , b: [11443.60699564] , cost: [76157862.80329585] , iteration: 119\n",
      "m: [11570.2256602] , b: [11504.30831111] , cost: [75778880.5378687] , iteration: 120\n",
      "m: [11561.25594644] , b: [11564.7528314] , cost: [75403098.03722925] , iteration: 121\n",
      "m: [11552.3241788] , b: [11624.94164286] , cost: [75030488.28561555] , iteration: 122\n",
      "m: [11543.43019676] , b: [11684.87582727] , cost: [74661024.49536087] , iteration: 123\n",
      "m: [11534.57384045] , b: [11744.55646182] , cost: [74294680.10496809] , iteration: 124\n",
      "m: [11525.7549507] , b: [11803.98461914] , cost: [73931428.7771998] , iteration: 125\n",
      "m: [11516.97336902] , b: [11863.16136732] , cost: [73571244.39718539] , iteration: 126\n"
     ]
    },
    {
     "name": "stdout",
     "output_type": "stream",
     "text": [
      "m: [11508.22893757] , b: [11922.08776996] , cost: [73214101.07054317] , iteration: 127\n",
      "m: [11499.52149919] , b: [11980.76488613] , cost: [72859973.1215189] , iteration: 128\n",
      "m: [11490.85089737] , b: [12039.19377043] , cost: [72508835.09113996] , iteration: 129\n",
      "m: [11482.21697629] , b: [12097.37547299] , cost: [72160661.73538496] , iteration: 130\n",
      "m: [11473.61958077] , b: [12155.31103952] , cost: [71815428.02336906] , iteration: 131\n",
      "m: [11465.05855629] , b: [12213.00151128] , cost: [71473109.13554426] , iteration: 132\n",
      "m: [11456.53374898] , b: [12270.44792514] , cost: [71133680.46191506] , iteration: 133\n",
      "m: [11448.04500562] , b: [12327.65131358] , cost: [70797117.60026953] , iteration: 134\n",
      "m: [11439.59217365] , b: [12384.61270471] , cost: [70463396.35442452] , iteration: 135\n",
      "m: [11431.17510114] , b: [12441.33312229] , cost: [70132492.73248649] , iteration: 136\n",
      "m: [11422.79363682] , b: [12497.81358577] , cost: [69804382.9451265] , iteration: 137\n",
      "m: [11414.44763005] , b: [12554.05511025] , cost: [69479043.40387] , iteration: 138\n",
      "m: [11406.13693082] , b: [12610.05870655] , cost: [69156450.71940123] , iteration: 139\n",
      "m: [11397.86138977] , b: [12665.82538124] , cost: [68836581.69988114] , iteration: 140\n",
      "m: [11389.62085816] , b: [12721.3561366] , cost: [68519413.34928082] , iteration: 141\n",
      "m: [11381.41518788] , b: [12776.65197067] , cost: [68204922.86572763] , iteration: 142\n",
      "m: [11373.24423146] , b: [12831.71387729] , cost: [67893087.6398663] , iteration: 143\n",
      "m: [11365.10784204] , b: [12886.54284608] , cost: [67583885.25323339] , iteration: 144\n",
      "m: [11357.00587338] , b: [12941.13986248] , cost: [67277293.47664559] , iteration: 145\n",
      "m: [11348.93817987] , b: [12995.50590775] , cost: [66973290.26860163] , iteration: 146\n",
      "m: [11340.90461651] , b: [13049.64195902] , cost: [66671853.77369753] , iteration: 147\n",
      "m: [11332.9050389] , b: [13103.54898926] , cost: [66372962.32105567] , iteration: 148\n",
      "m: [11324.93930329] , b: [13157.22796734] , cost: [66076594.42276651] , iteration: 149\n",
      "m: [11317.00726649] , b: [13210.67985803] , cost: [65782728.77234402] , iteration: 150\n",
      "m: [11309.10878595] , b: [13263.90562201] , cost: [65491344.2431938] , iteration: 151\n",
      "m: [11301.2437197] , b: [13316.90621592] , cost: [65202419.88709413] , iteration: 152\n",
      "m: [11293.4119264] , b: [13369.68259232] , cost: [64915934.93269041] , iteration: 153\n",
      "m: [11285.61326527] , b: [13422.23569976] , cost: [64631868.78400114] , iteration: 154\n",
      "m: [11277.84759616] , b: [13474.56648278] , cost: [64350201.01893794] , iteration: 155\n",
      "m: [11270.11477949] , b: [13526.6758819] , cost: [64070911.38783702] , iteration: 156\n",
      "m: [11262.41467628] , b: [13578.5648337] , cost: [63793979.81200331] , iteration: 157\n",
      "m: [11254.74714814] , b: [13630.23427076] , cost: [63519386.38226723] , iteration: 158\n",
      "m: [11247.11205726] , b: [13681.68512173] , cost: [63247111.35755317] , iteration: 159\n",
      "m: [11239.50926641] , b: [13732.91831135] , cost: [62977135.16346028] , iteration: 160\n",
      "m: [11231.93863895] , b: [13783.93476041] , cost: [62709438.39085548] , iteration: 161\n",
      "m: [11224.40003882] , b: [13834.73538584] , cost: [62444001.79447766] , iteration: 162\n",
      "m: [11216.89333052] , b: [13885.32110066] , cost: [62180806.29155448] , iteration: 163\n",
      "m: [11209.41837914] , b: [13935.69281406] , cost: [61919832.96043023] , iteration: 164\n",
      "m: [11201.97505033] , b: [13985.85143135] , cost: [61661063.03920584] , iteration: 165\n",
      "m: [11194.5632103] , b: [14035.79785405] , cost: [61404477.92438953] , iteration: 166\n",
      "m: [11187.18272586] , b: [14085.53297982] , cost: [61150059.16955981] , iteration: 167\n",
      "m: [11179.83346434] , b: [14135.05770255] , cost: [60897788.48403914] , iteration: 168\n",
      "m: [11172.51529367] , b: [14184.37291236] , cost: [60647647.73157911] , iteration: 169\n",
      "m: [11165.22808231] , b: [14233.47949557] , cost: [60399618.92905634] , iteration: 170\n",
      "m: [11157.97169929] , b: [14282.37833478] , cost: [60153684.24517994] , iteration: 171\n",
      "m: [11150.74601419] , b: [14331.07030884] , cost: [59909825.9992093] , iteration: 172\n",
      "m: [11143.55089715] , b: [14379.55629289] , cost: [59668026.65968326] , iteration: 173\n",
      "m: [11136.38621885] , b: [14427.83715836] , cost: [59428268.84315947] , iteration: 174\n",
      "m: [11129.25185051] , b: [14475.913773] , cost: [59190535.31296483] , iteration: 175\n",
      "m: [11122.14766391] , b: [14523.78700089] , cost: [58954808.97795634] , iteration: 176\n",
      "m: [11115.07353138] , b: [14571.45770246] , cost: [58721072.89129215] , iteration: 177\n",
      "m: [11108.02932576] , b: [14618.92673447] , cost: [58489310.24921358] , iteration: 178\n",
      "m: [11101.01492045] , b: [14666.1949501] , cost: [58259504.3898367] , iteration: 179\n",
      "m: [11094.03018939] , b: [14713.26319888] , cost: [58031638.79195473] , iteration: 180\n",
      "m: [11087.07500703] , b: [14760.13232678] , cost: [57805697.07385013] , iteration: 181\n",
      "m: [11080.14924837] , b: [14806.80317616] , cost: [57581662.99211702] , iteration: 182\n",
      "m: [11073.25278894] , b: [14853.27658585] , cost: [57359520.44049331] , iteration: 183\n",
      "m: [11066.38550478] , b: [14899.55339109] , cost: [57139253.44870285] , iteration: 184\n",
      "m: [11059.54727248] , b: [14945.63442363] , cost: [56920846.18130726] , iteration: 185\n",
      "m: [11052.73796912] , b: [14991.52051167] , cost: [56704282.93656751] , iteration: 186\n",
      "m: [11045.95747232] , b: [15037.21247992] , cost: [56489548.14531504] , iteration: 187\n",
      "m: [11039.20566023] , b: [15082.71114959] , cost: [56276626.36983254] , iteration: 188\n",
      "m: [11032.48241148] , b: [15128.01733844] , cost: [56065502.30274404] , iteration: 189\n",
      "m: [11025.78760525] , b: [15173.13186074] , cost: [55856160.76591443] , iteration: 190\n",
      "m: [11019.1211212] , b: [15218.05552735] , cost: [55648586.70935838] , iteration: 191\n",
      "m: [11012.48283952] , b: [15262.78914565] , cost: [55442765.21015819] , iteration: 192\n",
      "m: [11005.87264091] , b: [15307.33351966] , cost: [55238681.47139113] , iteration: 193\n",
      "m: [10999.29040655] , b: [15351.68944996] , cost: [55036320.82106549] , iteration: 194\n",
      "m: [10992.73601815] , b: [15395.85773376] , cost: [54835668.71106587] , iteration: 195\n",
      "m: [10986.2093579] , b: [15439.83916489] , cost: [54636710.71610739] , iteration: 196\n",
      "m: [10979.7103085] , b: [15483.63453382] , cost: [54439432.53269831] , iteration: 197\n",
      "m: [10973.23875315] , b: [15527.2446277] , cost: [54243819.97811219] , iteration: 198\n",
      "m: [10966.79457553] , b: [15570.67023031] , cost: [54049858.98936779] , iteration: 199\n",
      "Accuracy:  0.9256023208331805\n",
      "R:  0.9620822838162963\n"
     ]
    },
    {
     "data": {
      "text/plain": [
       "0.9256023208331805"
      ]
     },
     "execution_count": 24,
     "metadata": {},
     "output_type": "execute_result"
    },
    {
     "data": {
      "image/png": "[encoded data removed]",
      "text/plain": [
       "<Figure size 432x288 with 1 Axes>"
      ]
     },
     "metadata": {
      "needs_background": "light"
     },
     "output_type": "display_data"
    }
   ],
   "source": [
    "gradient_decent(x,y)"
   ]
  },
  {
   "cell_type": "markdown",
   "id": "2f6200d5",
   "metadata": {},
   "source": [
    "### From the above model, Accuracy = 0.9256"
   ]
  },
  {
   "cell_type": "markdown",
   "id": "06b391f5",
   "metadata": {},
   "source": [
    "# Train-Test-Split"
   ]
  },
  {
   "cell_type": "code",
   "execution_count": 16,
   "id": "90f829b6",
   "metadata": {},
   "outputs": [],
   "source": [
    "from sklearn.model_selection import train_test_split"
   ]
  },
  {
   "cell_type": "code",
   "execution_count": 27,
   "id": "89cb528b",
   "metadata": {},
   "outputs": [],
   "source": [
    "x_test,x_train,y_test,y_train = train_test_split(x,y)"
   ]
  },
  {
   "cell_type": "markdown",
   "id": "7a085b91",
   "metadata": {},
   "source": [
    "# Data Modelling using Linear Regression"
   ]
  },
  {
   "cell_type": "code",
   "execution_count": 28,
   "id": "41b5b1eb",
   "metadata": {},
   "outputs": [],
   "source": [
    "from sklearn.linear_model import LinearRegression"
   ]
  },
  {
   "cell_type": "code",
   "execution_count": 29,
   "id": "88b6f944",
   "metadata": {},
   "outputs": [],
   "source": [
    "lr = LinearRegression()"
   ]
  },
  {
   "cell_type": "code",
   "execution_count": 30,
   "id": "ec413429",
   "metadata": {},
   "outputs": [
    {
     "data": {
      "text/html": [
       "<style>#sk-container-id-1 {color: black;background-color: white;}#sk-container-id-1 pre{padding: 0;}#sk-container-id-1 div.sk-toggleable {background-color: white;}#sk-container-id-1 label.sk-toggleable__label {cursor: pointer;display: block;width: 100%;margin-bottom: 0;padding: 0.3em;box-sizing: border-box;text-align: center;}#sk-container-id-1 label.sk-toggleable__label-arrow:before {content: \"▸\";float: left;margin-right: 0.25em;color: #696969;}#sk-container-id-1 label.sk-toggleable__label-arrow:hover:before {color: black;}#sk-container-id-1 div.sk-estimator:hover label.sk-toggleable__label-arrow:before {color: black;}#sk-container-id-1 div.sk-toggleable__content {max-height: 0;max-width: 0;overflow: hidden;text-align: left;background-color: #f0f8ff;}#sk-container-id-1 div.sk-toggleable__content pre {margin: 0.2em;color: black;border-radius: 0.25em;background-color: #f0f8ff;}#sk-container-id-1 input.sk-toggleable__control:checked~div.sk-toggleable__content {max-height: 200px;max-width: 100%;overflow: auto;}#sk-container-id-1 input.sk-toggleable__control:checked~label.sk-toggleable__label-arrow:before {content: \"▾\";}#sk-container-id-1 div.sk-estimator input.sk-toggleable__control:checked~label.sk-toggleable__label {background-color: #d4ebff;}#sk-container-id-1 div.sk-label input.sk-toggleable__control:checked~label.sk-toggleable__label {background-color: #d4ebff;}#sk-container-id-1 input.sk-hidden--visually {border: 0;clip: rect(1px 1px 1px 1px);clip: rect(1px, 1px, 1px, 1px);height: 1px;margin: -1px;overflow: hidden;padding: 0;position: absolute;width: 1px;}#sk-container-id-1 div.sk-estimator {font-family: monospace;background-color: #f0f8ff;border: 1px dotted black;border-radius: 0.25em;box-sizing: border-box;margin-bottom: 0.5em;}#sk-container-id-1 div.sk-estimator:hover {background-color: #d4ebff;}#sk-container-id-1 div.sk-parallel-item::after {content: \"\";width: 100%;border-bottom: 1px solid gray;flex-grow: 1;}#sk-container-id-1 div.sk-label:hover label.sk-toggleable__label {background-color: #d4ebff;}#sk-container-id-1 div.sk-serial::before {content: \"\";position: absolute;border-left: 1px solid gray;box-sizing: border-box;top: 0;bottom: 0;left: 50%;z-index: 0;}#sk-container-id-1 div.sk-serial {display: flex;flex-direction: column;align-items: center;background-color: white;padding-right: 0.2em;padding-left: 0.2em;position: relative;}#sk-container-id-1 div.sk-item {position: relative;z-index: 1;}#sk-container-id-1 div.sk-parallel {display: flex;align-items: stretch;justify-content: center;background-color: white;position: relative;}#sk-container-id-1 div.sk-item::before, #sk-container-id-1 div.sk-parallel-item::before {content: \"\";position: absolute;border-left: 1px solid gray;box-sizing: border-box;top: 0;bottom: 0;left: 50%;z-index: -1;}#sk-container-id-1 div.sk-parallel-item {display: flex;flex-direction: column;z-index: 1;position: relative;background-color: white;}#sk-container-id-1 div.sk-parallel-item:first-child::after {align-self: flex-end;width: 50%;}#sk-container-id-1 div.sk-parallel-item:last-child::after {align-self: flex-start;width: 50%;}#sk-container-id-1 div.sk-parallel-item:only-child::after {width: 0;}#sk-container-id-1 div.sk-dashed-wrapped {border: 1px dashed gray;margin: 0 0.4em 0.5em 0.4em;box-sizing: border-box;padding-bottom: 0.4em;background-color: white;}#sk-container-id-1 div.sk-label label {font-family: monospace;font-weight: bold;display: inline-block;line-height: 1.2em;}#sk-container-id-1 div.sk-label-container {text-align: center;}#sk-container-id-1 div.sk-container {/* jupyter's `normalize.less` sets `[hidden] { display: none; }` but bootstrap.min.css set `[hidden] { display: none !important; }` so we also need the `!important` here to be able to override the default hidden behavior on the sphinx rendered scikit-learn.org. See: https://github.com/scikit-learn/scikit-learn/issues/21755 */display: inline-block !important;position: relative;}#sk-container-id-1 div.sk-text-repr-fallback {display: none;}</style><div id=\"sk-container-id-1\" class=\"sk-top-container\"><div class=\"sk-text-repr-fallback\"><pre>LinearRegression()</pre><b>In a Jupyter environment, please rerun this cell to show the HTML representation or trust the notebook. <br />On GitHub, the HTML representation is unable to render, please try loading this page with nbviewer.org.</b></div><div class=\"sk-container\" hidden><div class=\"sk-item\"><div class=\"sk-estimator sk-toggleable\"><input class=\"sk-toggleable__control sk-hidden--visually\" id=\"sk-estimator-id-1\" type=\"checkbox\" checked><label for=\"sk-estimator-id-1\" class=\"sk-toggleable__label sk-toggleable__label-arrow\">LinearRegression</label><div class=\"sk-toggleable__content\"><pre>LinearRegression()</pre></div></div></div></div></div>"
      ],
      "text/plain": [
       "LinearRegression()"
      ]
     },
     "execution_count": 30,
     "metadata": {},
     "output_type": "execute_result"
    }
   ],
   "source": [
    "lr.fit(x_train,y_train)"
   ]
  },
  {
   "cell_type": "code",
   "execution_count": 31,
   "id": "811441a3",
   "metadata": {},
   "outputs": [
    {
     "data": {
      "text/plain": [
       "array([[9773.0447306]])"
      ]
     },
     "execution_count": 31,
     "metadata": {},
     "output_type": "execute_result"
    }
   ],
   "source": [
    "lr.coef_"
   ]
  },
  {
   "cell_type": "code",
   "execution_count": 32,
   "id": "b314a330",
   "metadata": {},
   "outputs": [
    {
     "data": {
      "text/plain": [
       "array([22562.17083192])"
      ]
     },
     "execution_count": 32,
     "metadata": {},
     "output_type": "execute_result"
    }
   ],
   "source": [
    "lr.intercept_"
   ]
  },
  {
   "cell_type": "code",
   "execution_count": 33,
   "id": "c0658717",
   "metadata": {},
   "outputs": [],
   "source": [
    "y_pred = lr.predict(x_test)"
   ]
  },
  {
   "cell_type": "code",
   "execution_count": 37,
   "id": "179eacba",
   "metadata": {},
   "outputs": [
    {
     "data": {
      "image/png": "[encoded data removed]",
      "text/plain": [
       "<Figure size 432x288 with 1 Axes>"
      ]
     },
     "metadata": {
      "needs_background": "light"
     },
     "output_type": "display_data"
    }
   ],
   "source": [
    "plt.scatter(x_test,y_test)\n",
    "plt.plot(x_test,y_pred,color='r')\n",
    "plt.show()"
   ]
  },
  {
   "cell_type": "markdown",
   "id": "711662cb",
   "metadata": {},
   "source": [
    "# Accuracy Finding for Linear Regression"
   ]
  },
  {
   "cell_type": "code",
   "execution_count": 38,
   "id": "56a264aa",
   "metadata": {},
   "outputs": [],
   "source": [
    "r2 = r2_score(y_test,y_pred)"
   ]
  },
  {
   "cell_type": "code",
   "execution_count": 39,
   "id": "4eaf533f",
   "metadata": {},
   "outputs": [
    {
     "data": {
      "text/plain": [
       "0.93904361183072"
      ]
     },
     "execution_count": 39,
     "metadata": {},
     "output_type": "execute_result"
    }
   ],
   "source": [
    "r2"
   ]
  },
  {
   "cell_type": "code",
   "execution_count": 40,
   "id": "f7a78da7",
   "metadata": {},
   "outputs": [],
   "source": [
    "r = math.sqrt(r2)"
   ]
  },
  {
   "cell_type": "code",
   "execution_count": 41,
   "id": "8afc68ac",
   "metadata": {},
   "outputs": [
    {
     "data": {
      "text/plain": [
       "0.9690426264260619"
      ]
     },
     "execution_count": 41,
     "metadata": {},
     "output_type": "execute_result"
    }
   ],
   "source": [
    "r"
   ]
  },
  {
   "cell_type": "markdown",
   "id": "b3a93e33",
   "metadata": {},
   "source": [
    "### From the above model, Accuracy = 0.9390"
   ]
  },
  {
   "cell_type": "markdown",
   "id": "fbed5f4d",
   "metadata": {},
   "source": [
    "# Conclusion"
   ]
  },
  {
   "cell_type": "markdown",
   "id": "977f71f9",
   "metadata": {},
   "source": [
    "#### The Accuracy of Linear Regression is greater than Accuracy of Gradient Descent Method. Thus, the accepted model will be of Linear Regression. Now we will analyze the salary for some new inputs."
   ]
  },
  {
   "cell_type": "markdown",
   "id": "f75f5958",
   "metadata": {},
   "source": [
    "# Making a Predictive System "
   ]
  },
  {
   "cell_type": "code",
   "execution_count": 42,
   "id": "9e77a4a4",
   "metadata": {},
   "outputs": [],
   "source": [
    "input_data = np.asarray(5.3) #years of experience = 5.3 years"
   ]
  },
  {
   "cell_type": "code",
   "execution_count": 44,
   "id": "0ec947ca",
   "metadata": {},
   "outputs": [],
   "source": [
    "input_data_reshaped = input_data.reshape(1,-1)"
   ]
  },
  {
   "cell_type": "code",
   "execution_count": 48,
   "id": "50991790",
   "metadata": {},
   "outputs": [
    {
     "name": "stdout",
     "output_type": "stream",
     "text": [
      "[[74359.3079041]]\n"
     ]
    }
   ],
   "source": [
    "prediction = lr.predict(input_data_reshaped)\n",
    "print(prediction)"
   ]
  },
  {
   "cell_type": "markdown",
   "id": "4b6ce68a",
   "metadata": {},
   "source": [
    "The Salary for employee with 5.3 years of experience is Rs.74360"
   ]
  }
 ],
 "metadata": {
  "kernelspec": {
   "display_name": "Python 3 (ipykernel)",
   "language": "python",
   "name": "python3"
  },
  "language_info": {
   "codemirror_mode": {
    "name": "ipython",
    "version": 3
   },
   "file_extension": ".py",
   "mimetype": "text/x-python",
   "name": "python",
   "nbconvert_exporter": "python",
   "pygments_lexer": "ipython3",
   "version": "3.10.4"
  }
 },
 "nbformat": 4,
 "nbformat_minor": 5
}
